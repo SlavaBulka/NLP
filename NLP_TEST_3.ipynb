{
 "cells": [
  {
   "cell_type": "code",
   "execution_count": 56,
   "id": "40bd11a9",
   "metadata": {},
   "outputs": [
    {
     "name": "stdout",
     "output_type": "stream",
     "text": [
      "bags found: 8\n",
      "index of token: 5\n",
      "bags found: 72\n",
      "index of token: 14\n",
      "count: 2\n"
     ]
    }
   ],
   "source": [
    "import spacy\n",
    "\n",
    "\n",
    "nlp = spacy.load(\"en_core_web_sm\")\n",
    "\n",
    "doc = nlp(\"Each cart was loaded with 8 bags of potatoes. How many carts loaded 72 bags.\")\n",
    "\n",
    "j = 0\n",
    "\n",
    "for token in doc:\n",
    "    \n",
    "    if token.like_num:\n",
    "        \n",
    "        next_token = doc[token.i + 1]\n",
    "        \n",
    "        if next_token.text == \"bags\":\n",
    "            \n",
    "            j = j + 1\n",
    "            print(\"bags found:\", token.text)\n",
    "            print(\"index of token:\", token.i)\n",
    "print(\"count:\", j)"
   ]
  },
  {
   "cell_type": "code",
   "execution_count": 57,
   "id": "15975f1f",
   "metadata": {
    "scrolled": false
   },
   "outputs": [
    {
     "name": "stdout",
     "output_type": "stream",
     "text": [
      "8 CARDINAL\n",
      "72 CARDINAL\n"
     ]
    }
   ],
   "source": [
    "for ent in doc.ents:\n",
    "    print(ent.text, ent.label_)"
   ]
  },
  {
   "cell_type": "code",
   "execution_count": 58,
   "id": "7d459902",
   "metadata": {
    "scrolled": true
   },
   "outputs": [
    {
     "name": "stdout",
     "output_type": "stream",
     "text": [
      "Each DET det cart\n",
      "cart NOUN nsubjpass loaded\n",
      "was AUX auxpass loaded\n",
      "loaded VERB ROOT loaded\n",
      "with ADP prep loaded\n",
      "8 NUM nummod bags\n",
      "bags NOUN pobj with\n",
      "of ADP prep bags\n",
      "potatoes NOUN pobj of\n",
      ". PUNCT punct loaded\n",
      "How SCONJ advmod many\n",
      "many ADJ amod carts\n",
      "carts NOUN nsubj loaded\n",
      "loaded VERB ROOT loaded\n",
      "72 NUM nummod bags\n",
      "bags NOUN dobj loaded\n",
      ". PUNCT punct loaded\n"
     ]
    }
   ],
   "source": [
    "for token in doc:\n",
    "    print(token.text, token.pos_, token.dep_, token.head.text)"
   ]
  },
  {
   "cell_type": "code",
   "execution_count": null,
   "id": "b54b3056",
   "metadata": {},
   "outputs": [],
   "source": []
  }
 ],
 "metadata": {
  "kernelspec": {
   "display_name": "Python 3 (ipykernel)",
   "language": "python",
   "name": "python3"
  },
  "language_info": {
   "codemirror_mode": {
    "name": "ipython",
    "version": 3
   },
   "file_extension": ".py",
   "mimetype": "text/x-python",
   "name": "python",
   "nbconvert_exporter": "python",
   "pygments_lexer": "ipython3",
   "version": "3.7.9"
  }
 },
 "nbformat": 4,
 "nbformat_minor": 5
}
