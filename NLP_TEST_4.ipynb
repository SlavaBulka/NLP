{
 "cells": [
  {
   "cell_type": "code",
   "execution_count": 4,
   "id": "37aeb7e5",
   "metadata": {},
   "outputs": [
    {
     "name": "stdout",
     "output_type": "stream",
     "text": [
      "             nicknames\n",
      "0               Seroga\n",
      "1        Артур Гафинец\n",
      "2       Сергей Абуткин\n",
      "3             Fix Play\n",
      "4       Razia Salihova\n",
      "...                ...\n",
      "6394      Android User\n",
      "6395              Loop\n",
      "6396          Olinessa\n",
      "6397              mor1\n",
      "6398  Konstantin Kogay\n",
      "\n",
      "[6399 rows x 1 columns]\n"
     ]
    },
    {
     "data": {
      "text/plain": [
       "NaN    6399\n",
       "Name: nicknames_lower, dtype: int64"
      ]
     },
     "execution_count": 4,
     "metadata": {},
     "output_type": "execute_result"
    }
   ],
   "source": [
    "import requests\n",
    "import numpy as np\n",
    "import seaborn as sns\n",
    "import json\n",
    "import pandas as pd\n",
    "import matplotlib.pyplot as plt\n",
    "import matplotlib.mlab as mlab\n",
    "import matplotlib\n",
    "from matplotlib.pyplot import figure\n",
    "names=[]\n",
    "for i in range(1,9):\n",
    "    for j in range(1,9):\n",
    "        response = requests.get(f'https://dtf.ru/subsite/subscribers/64953?lastId=631160&lastSortingValue=16{i}{j}078863.118991&mode=raw')\n",
    "        for items in response.json()['data']['items']:\n",
    "            names.append(items['label'])\n",
    "            list_names={\n",
    "                'nicknames':names\n",
    "            }\n",
    "list_names_df=pd.DataFrame(list_names)\n",
    "print(list_names_df)\n",
    "list_names_df.to_csv('nicknames.csv',index=False)\n",
    "plt.style.use('ggplot')\n",
    "%matplotlib inline\n",
    "matplotlib.rcParams['figure.figsize'] = (12,8)\n",
    "pd.options.mode.chained_assignment = None\n",
    "df = pd.read_csv('nicknames.csv')\n",
    "df['nicknames_lower'] = df['nicknames'].str.lower().to_excel('nicknames.xlsx',index=False)\n",
    "df['nicknames_lower'].value_counts(dropna=False)\n",
    "\n"
   ]
  },
  {
   "cell_type": "code",
   "execution_count": null,
   "id": "36160727",
   "metadata": {},
   "outputs": [],
   "source": []
  }
 ],
 "metadata": {
  "kernelspec": {
   "display_name": "Python 3 (ipykernel)",
   "language": "python",
   "name": "python3"
  },
  "language_info": {
   "codemirror_mode": {
    "name": "ipython",
    "version": 3
   },
   "file_extension": ".py",
   "mimetype": "text/x-python",
   "name": "python",
   "nbconvert_exporter": "python",
   "pygments_lexer": "ipython3",
   "version": "3.7.9"
  }
 },
 "nbformat": 4,
 "nbformat_minor": 5
}
